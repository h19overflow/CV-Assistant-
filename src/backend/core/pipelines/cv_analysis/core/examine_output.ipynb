{
 "cells": [
  {
   "metadata": {
    "ExecuteTime": {
     "end_time": "2025-09-26T06:28:08.701703Z",
     "start_time": "2025-09-26T06:28:01.269027Z"
    }
   },
   "cell_type": "code",
   "source": "from langchain_docling import DoclingLoader",
   "id": "9c96ac30804b5ff4",
   "outputs": [
    {
     "name": "stderr",
     "output_type": "stream",
     "text": [
      "C:\\Users\\User\\Projects\\Resume_System\\.venv\\Lib\\site-packages\\tqdm\\auto.py:21: TqdmWarning: IProgress not found. Please update jupyter and ipywidgets. See https://ipywidgets.readthedocs.io/en/stable/user_install.html\n",
      "  from .autonotebook import tqdm as notebook_tqdm\n"
     ]
    }
   ],
   "execution_count": 1
  },
  {
   "metadata": {
    "ExecuteTime": {
     "end_time": "2025-09-26T06:39:03.007490Z",
     "start_time": "2025-09-26T06:38:24.520347Z"
    }
   },
   "cell_type": "code",
   "source": [
    "from document_processor import DocumentProcessor\n",
    "\n",
    "doc_processor = DocumentProcessor()\n",
    "docs = doc_processor.process_pipeline(r\"C:\\Users\\User\\Projects\\Resume_System\\src\\backend\\core\\pipelines\\cv_analysis\\core\\Designing machine learning systems _ an iterative process -- Chip Huyen; Safari, an O'Reilly Media Company -- 1st edition, 2022 -- O'Reilly Media, -- 9781098107932 -- 887100ba4373eebfed52ee1f973161de -- Anna’s .pdf\")"
   ],
   "id": "f102557e4fe39f2c",
   "outputs": [
    {
     "name": "stderr",
     "output_type": "stream",
     "text": [
      "2025-09-26 14:38:30,926 - INFO - Document processor initialized with model: google/embeddinggemma-300m\n",
      "2025-09-26 14:38:31,557 - INFO - Loaded 389 pages from C:\\Users\\User\\Projects\\Resume_System\\src\\backend\\core\\pipelines\\cv_analysis\\core\\Designing machine learning systems _ an iterative process -- Chip Huyen; Safari, an O'Reilly Media Company -- 1st edition, 2022 -- O'Reilly Media, -- 9781098107932 -- 887100ba4373eebfed52ee1f973161de -- Anna’s .pdf\n",
      "2025-09-26 14:38:31,558 - INFO - Page 1: length=106, content='Chip Huyen \n",
      "Designing \n",
      "Machine Learning \n",
      "Systems\n",
      "An Iterative Process \n",
      "for Production-Ready \n",
      "Applica...'\n",
      "2025-09-26 14:38:31,558 - INFO - Page 2: length=2245, content='MACHINE LEARNING\n",
      "“This is, simply, the \n",
      "very best book you \n",
      "can read about how \n",
      "to build, deploy, an...'\n",
      "2025-09-26 14:38:31,559 - INFO - Page 3: length=1579, content='Praise for Designing Machine Learning Systems\n",
      "There is so much information one needs to know to be a...'\n",
      "2025-09-26 14:39:03,001 - INFO - Created 1541 chunks from 389 documents\n",
      "2025-09-26 14:39:03,002 - INFO - Chunk 0: length=106, content='Chip Huyen \n",
      "Designing \n",
      "Machine Learning \n",
      "Systems\n",
      "An Iterative Process \n",
      "for Production-Ready \n",
      "Applica...'\n",
      "2025-09-26 14:39:03,002 - INFO - Chunk 1: length=798, content='MACHINE LEARNING\n",
      "“This is, simply, the \n",
      "very best book you \n",
      "can read about how \n",
      "to build, deploy, an...'\n",
      "2025-09-26 14:39:03,003 - INFO - Chunk 2: length=560, content='Unique because \n",
      "they’re data dependent, with data varying wildly from one \n",
      "use case to the next. In ...'\n",
      "2025-09-26 14:39:03,003 - INFO - Chunk 3: length=609, content='The iterative \n",
      "framework in this book uses actual case studies backed by \n",
      "ample references. This boo...'\n",
      "2025-09-26 14:39:03,004 - INFO - Chunk 4: length=273, content='Through her work at NVIDIA, Netflix, \n",
      "and Snorkel AI, she’s helped some of the \n",
      "world’s largest orga...'\n"
     ]
    }
   ],
   "execution_count": 2
  },
  {
   "metadata": {
    "ExecuteTime": {
     "end_time": "2025-09-26T06:44:08.638727Z",
     "start_time": "2025-09-26T06:44:08.318432Z"
    }
   },
   "cell_type": "code",
   "source": [
    "for doc in range(50,80):\n",
    "    print(docs[doc]['page_content'])\n",
    "    print('----------------')"
   ],
   "id": "32a0d49b3d87cb8d",
   "outputs": [
    {
     "ename": "TypeError",
     "evalue": "'Document' object is not subscriptable",
     "output_type": "error",
     "traceback": [
      "\u001B[31m---------------------------------------------------------------------------\u001B[39m",
      "\u001B[31mTypeError\u001B[39m                                 Traceback (most recent call last)",
      "\u001B[36mCell\u001B[39m\u001B[36m \u001B[39m\u001B[32mIn[10]\u001B[39m\u001B[32m, line 2\u001B[39m\n\u001B[32m      1\u001B[39m \u001B[38;5;28;01mfor\u001B[39;00m doc \u001B[38;5;129;01min\u001B[39;00m \u001B[38;5;28mrange\u001B[39m(\u001B[32m50\u001B[39m,\u001B[32m80\u001B[39m):\n\u001B[32m----> \u001B[39m\u001B[32m2\u001B[39m     \u001B[38;5;28mprint\u001B[39m(\u001B[43mdocs\u001B[49m\u001B[43m[\u001B[49m\u001B[43mdoc\u001B[49m\u001B[43m]\u001B[49m\u001B[43m[\u001B[49m\u001B[33;43m'\u001B[39;49m\u001B[33;43mpage_content\u001B[39;49m\u001B[33;43m'\u001B[39;49m\u001B[43m]\u001B[49m)\n\u001B[32m      3\u001B[39m     \u001B[38;5;28mprint\u001B[39m(\u001B[33m'\u001B[39m\u001B[33m----------------\u001B[39m\u001B[33m'\u001B[39m)\n",
      "\u001B[31mTypeError\u001B[39m: 'Document' object is not subscriptable"
     ]
    }
   ],
   "execution_count": 10
  },
  {
   "metadata": {
    "ExecuteTime": {
     "end_time": "2025-09-26T06:28:48.912829Z",
     "start_time": "2025-09-26T06:28:48.271413Z"
    }
   },
   "cell_type": "code",
   "source": [
    "from langchain_community.document_loaders import PyPDFium2Loader\n",
    "loader = PyPDFium2Loader(r\"C:\\Users\\User\\Projects\\Resume_System\\src\\backend\\core\\pipelines\\cv_analysis\\core\\Designing machine learning systems _ an iterative process -- Chip Huyen; Safari, an O'Reilly Media Company -- 1st edition, 2022 -- O'Reilly Media, -- 9781098107932 -- 887100ba4373eebfed52ee1f973161de -- Anna’s .pdf\")\n",
    "data = loader.load()\n"
   ],
   "id": "cf126b1266af7c42",
   "outputs": [],
   "execution_count": 4
  },
  {
   "metadata": {
    "ExecuteTime": {
     "end_time": "2025-09-26T06:25:55.169322Z",
     "start_time": "2025-09-26T06:25:55.165989Z"
    }
   },
   "cell_type": "code",
   "source": "data[1].page_content\n",
   "id": "361dff22e07df07",
   "outputs": [
    {
     "data": {
      "text/plain": [
       "'MACHINE LEARNING\\n“This is, simply, the \\nvery best book you \\ncan read about how \\nto build, deploy, and \\nscale machine learning \\nmodels at a company for \\nmaximum impact.”\\n—Josh Wills\\nSoftware Engineer at WeaveGrid and \\nformer Director of Data Engineering, Slack\\n“In a blooming but chaotic \\necosystem, this principled \\nview on end-to-end ML is \\nboth your map and your \\ncompass: a must-read for \\npractitioners inside and \\noutside of Big Tech.” \\n—Jacopo Tagliabue\\nDirector of AI, Coveo\\nDesigning Machine Learning Systems\\nUS $59.99 CAN $74.99\\nISBN: 978-1-098-10796-3\\nTwitter: @oreillymedia\\nlinkedin.com/company/oreilly-media\\nyoutube.com/oreillymedia \\nMachine learning systems are both complex and unique. \\nComplex because they consist of many different components \\nand involve many different stakeholders. Unique because \\nthey’re data dependent, with data varying wildly from one \\nuse case to the next. In this book, you’ll learn a holistic \\napproach to designing ML systems that are reliable, scalable, \\nmaintainable, and adaptive to changing environments and \\nbusiness requirements.\\nAuthor Chip Huyen, co-founder of Claypot AI, considers each \\ndesign decision—such as how to process and create training \\ndata, which features to use, how often to retrain models, \\nand what to monitor—in the context of how it can help \\nyour system as a whole achieve its objectives. The iterative \\nframework in this book uses actual case studies backed by \\nample references.\\nThis book will help you tackle scenarios such as:\\n• Engineering data and choosing the right metrics to solve a \\nbusiness problem\\n• Automating the process for continually developing, \\nevaluating, deploying, and updating models\\n• Developing a monitoring system to quickly detect and \\naddress issues your models might encounter in production\\n• Architecting an ML platform that serves across use cases\\n• Developing responsible ML systems\\nChip Huyen is co-founder of Claypot AI, \\na platform for real-time machine learning. \\nThrough her work at NVIDIA, Netflix, \\nand Snorkel AI, she’s helped some of the \\nworld’s largest organizations develop and \\ndeploy ML systems. Chip based this book \\non her lectures for CS 329S: Machine \\nLearning Systems Design, a course she \\nteaches at Stanford University.\\n'"
      ]
     },
     "execution_count": 21,
     "metadata": {},
     "output_type": "execute_result"
    }
   ],
   "execution_count": 21
  },
  {
   "metadata": {
    "ExecuteTime": {
     "end_time": "2025-09-26T06:20:51.578779Z",
     "start_time": "2025-09-26T06:20:51.574779Z"
    }
   },
   "cell_type": "code",
   "source": "",
   "id": "a1572a9b4a4ae13c",
   "outputs": [
    {
     "data": {
      "text/plain": [
       "Document(metadata={'source': \"C:\\\\Users\\\\User\\\\Projects\\\\Resume_System\\\\src\\\\backend\\\\core\\\\pipelines\\\\cv_analysis\\\\core\\\\Designing machine learning systems _ an iterative process -- Chip Huyen; Safari, an O'Reilly Media Company -- 1st edition, 2022 -- O'Reilly Media, -- 9781098107932 -- 887100ba4373eebfed52ee1f973161de -- Anna’s .pdf\", 'dl_meta': {'schema_name': 'docling_core.transforms.chunker.DocMeta', 'version': '1.0.0', 'doc_items': [{'self_ref': '#/texts/4', 'parent': {'$ref': '#/body'}, 'children': [], 'content_layer': 'body', 'label': 'text', 'prov': [{'page_no': 2, 'bbox': {'l': 35.53, 't': 536.431, 'r': 299.43, 'b': 437.084, 'coord_origin': 'BOTTOMLEFT'}, 'charspan': [0, 426]}]}, {'self_ref': '#/texts/5', 'parent': {'$ref': '#/body'}, 'children': [], 'content_layer': 'body', 'label': 'text', 'prov': [{'page_no': 2, 'bbox': {'l': 35.53, 't': 427.931, 'r': 296.63, 'b': 341.584, 'coord_origin': 'BOTTOMLEFT'}, 'charspan': [0, 367]}]}, {'self_ref': '#/texts/6', 'parent': {'$ref': '#/body'}, 'children': [], 'content_layer': 'body', 'label': 'text', 'prov': [{'page_no': 2, 'bbox': {'l': 35.53, 't': 332.431, 'r': 234.539, 'b': 324.085, 'coord_origin': 'BOTTOMLEFT'}, 'charspan': [0, 49]}]}, {'self_ref': '#/texts/7', 'parent': {'$ref': '#/groups/0'}, 'children': [], 'content_layer': 'body', 'label': 'list_item', 'prov': [{'page_no': 2, 'bbox': {'l': 35.53, 't': 316.524, 'r': 288.328, 'b': 294.485, 'coord_origin': 'BOTTOMLEFT'}, 'charspan': [0, 77]}]}, {'self_ref': '#/texts/8', 'parent': {'$ref': '#/groups/0'}, 'children': [], 'content_layer': 'body', 'label': 'list_item', 'prov': [{'page_no': 2, 'bbox': {'l': 35.53, 't': 286.924, 'r': 261.358, 'b': 264.885, 'coord_origin': 'BOTTOMLEFT'}, 'charspan': [0, 95]}]}, {'self_ref': '#/texts/9', 'parent': {'$ref': '#/groups/0'}, 'children': [], 'content_layer': 'body', 'label': 'list_item', 'prov': [{'page_no': 2, 'bbox': {'l': 35.53, 't': 257.324, 'r': 289.846, 'b': 235.28499999999997, 'coord_origin': 'BOTTOMLEFT'}, 'charspan': [0, 111]}]}, {'self_ref': '#/texts/10', 'parent': {'$ref': '#/groups/0'}, 'children': [], 'content_layer': 'body', 'label': 'list_item', 'prov': [{'page_no': 2, 'bbox': {'l': 35.53, 't': 227.724, 'r': 280.977, 'b': 218.536, 'coord_origin': 'BOTTOMLEFT'}, 'charspan': [0, 58]}]}, {'self_ref': '#/texts/11', 'parent': {'$ref': '#/groups/0'}, 'children': [], 'content_layer': 'body', 'label': 'list_item', 'prov': [{'page_no': 2, 'bbox': {'l': 35.53, 't': 211.12400000000002, 'r': 194.89, 'b': 201.93600000000004, 'coord_origin': 'BOTTOMLEFT'}, 'charspan': [0, 35]}]}, {'self_ref': '#/texts/12', 'parent': {'$ref': '#/body'}, 'children': [], 'content_layer': 'body', 'label': 'text', 'prov': [{'page_no': 2, 'bbox': {'l': 35.8, 't': 113.293, 'r': 105.318, 'b': 107.44899999999996, 'coord_origin': 'BOTTOMLEFT'}, 'charspan': [0, 16]}]}], 'headings': ['Designing Machine Learning Systems'], 'origin': {'mimetype': 'application/pdf', 'binary_hash': 8557555191978497986, 'filename': \"Designing machine learning systems _ an iterative process -- Chip Huyen; Safari, an O'Reilly Media Company -- 1st edition, 2022 -- O'Reilly Media, -- 9781098107932 -- 887100ba4373eebfed52ee1f973161de -- Anna’s .pdf\"}}}, page_content='Designing Machine Learning Systems\\nMachine learning systems are both complex and unique. Complex because they consist of many different components and involve many different stakeholders.')"
      ]
     },
     "execution_count": 12,
     "metadata": {},
     "output_type": "execute_result"
    }
   ],
   "execution_count": 12
  },
  {
   "metadata": {},
   "cell_type": "code",
   "outputs": [],
   "execution_count": null,
   "source": "",
   "id": "a0c879a7a694cd5"
  }
 ],
 "metadata": {
  "kernelspec": {
   "display_name": "Python 3",
   "language": "python",
   "name": "python3"
  },
  "language_info": {
   "codemirror_mode": {
    "name": "ipython",
    "version": 2
   },
   "file_extension": ".py",
   "mimetype": "text/x-python",
   "name": "python",
   "nbconvert_exporter": "python",
   "pygments_lexer": "ipython2",
   "version": "2.7.6"
  }
 },
 "nbformat": 4,
 "nbformat_minor": 5
}
